{
 "cells": [
  {
   "cell_type": "markdown",
   "id": "ac66051f",
   "metadata": {},
   "source": [
    "# Loading\n",
    "\n",
    "Create a generator function for importing the file"
   ]
  },
  {
   "cell_type": "code",
   "execution_count": 1,
   "id": "a78623e8",
   "metadata": {},
   "outputs": [],
   "source": [
    "import urllib.request\n",
    "import lzma\n",
    "import base64\n",
    "import re\n",
    "\n",
    "def get_dependencies():\n",
    "    localfile, info = urllib.request.urlretrieve(\"https://github.com/kevSweet/meta-deps/raw/master/pypi-deps.csv.lzma\")\n",
    "    with lzma.open(localfile, mode='r') as file:\n",
    "        for line in file:\n",
    "            package, version, deps = line.decode(\"utf-8\").split('\\t')\n",
    "            deps = base64.b64decode(deps).decode(\"utf-8\")\n",
    "            deps = eval(deps)\n",
    "            regex = r'\\\"*([\\w\\.]+)[><]?\\=?.*\\\"*'\n",
    "            \n",
    "            def cleanDep(s):\n",
    "                try:\n",
    "                    match = re.search(regex, s)\n",
    "                    return match.group(0)\n",
    "                except:\n",
    "                    return None\n",
    "            \n",
    "            deps = [cleanDep(x) for x in deps if cleanDep(x) is not None]\n",
    "            \n",
    "            yield package, deps\n",
    "        \n",
    "        \n"
   ]
  },
  {
   "cell_type": "markdown",
   "id": "cdb43fb3",
   "metadata": {},
   "source": [
    "Store as dataframe"
   ]
  },
  {
   "cell_type": "code",
   "execution_count": 2,
   "id": "8cec55f6",
   "metadata": {
    "scrolled": false
   },
   "outputs": [
    {
     "data": {
      "text/html": [
       "<div>\n",
       "<style scoped>\n",
       "    .dataframe tbody tr th:only-of-type {\n",
       "        vertical-align: middle;\n",
       "    }\n",
       "\n",
       "    .dataframe tbody tr th {\n",
       "        vertical-align: top;\n",
       "    }\n",
       "\n",
       "    .dataframe thead th {\n",
       "        text-align: right;\n",
       "    }\n",
       "</style>\n",
       "<table border=\"1\" class=\"dataframe\">\n",
       "  <thead>\n",
       "    <tr style=\"text-align: right;\">\n",
       "      <th></th>\n",
       "      <th>package</th>\n",
       "      <th>dependency</th>\n",
       "    </tr>\n",
       "  </thead>\n",
       "  <tbody>\n",
       "    <tr>\n",
       "      <th>1</th>\n",
       "      <td>0x10c-asm</td>\n",
       "      <td>None</td>\n",
       "    </tr>\n",
       "    <tr>\n",
       "      <th>2</th>\n",
       "      <td>2gis</td>\n",
       "      <td>None</td>\n",
       "    </tr>\n",
       "    <tr>\n",
       "      <th>3</th>\n",
       "      <td>3to2</td>\n",
       "      <td>None</td>\n",
       "    </tr>\n",
       "    <tr>\n",
       "      <th>4</th>\n",
       "      <td>3to2_py3k</td>\n",
       "      <td>None</td>\n",
       "    </tr>\n",
       "    <tr>\n",
       "      <th>5</th>\n",
       "      <td>42qucc</td>\n",
       "      <td>None</td>\n",
       "    </tr>\n",
       "  </tbody>\n",
       "</table>\n",
       "</div>"
      ],
      "text/plain": [
       "     package dependency\n",
       "1  0x10c-asm       None\n",
       "2       2gis       None\n",
       "3       3to2       None\n",
       "4  3to2_py3k       None\n",
       "5     42qucc       None"
      ]
     },
     "execution_count": 2,
     "metadata": {},
     "output_type": "execute_result"
    }
   ],
   "source": [
    "import pandas as pd\n",
    "import numpy as np\n",
    "\n",
    "rows = np.array([[None,None]])\n",
    "for package, deps in get_dependencies():\n",
    "    # Packages with no dependencies get blank string\n",
    "    if deps:\n",
    "        args= [[package, dep] for dep in deps]\n",
    "    else:\n",
    "        args = [[package, None]]\n",
    "    rows = np.append(rows, args, axis=0)\n",
    "\n",
    "        \n",
    "df = pd.DataFrame(rows, columns=[\"package\", \"dependency\"]).drop_duplicates()\n",
    "df = df.dropna(subset=['package'])\n",
    "df.head()"
   ]
  },
  {
   "cell_type": "code",
   "execution_count": 3,
   "id": "bbe3530a",
   "metadata": {},
   "outputs": [],
   "source": [
    "deps = pd.Series(df.dependency.unique())\n",
    "packages = pd.Series(df.package.unique())\n",
    "new_deps = deps[~deps.isin(packages)]\n",
    "new_df = pd.DataFrame({'package': new_deps, 'dependency': [None]*len(new_deps)})\n",
    "df = pd.concat([df, new_df])"
   ]
  },
  {
   "cell_type": "code",
   "execution_count": 4,
   "id": "c44c2558",
   "metadata": {},
   "outputs": [],
   "source": [
    "from timeit import default_timer"
   ]
  },
  {
   "cell_type": "markdown",
   "id": "30d02d45",
   "metadata": {},
   "source": [
    "## Redshift\n",
    "\n",
    "In Redshift we create a single table that will hold one \"edge\" per row."
   ]
  },
  {
   "cell_type": "code",
   "execution_count": 12,
   "id": "a9c3457d",
   "metadata": {},
   "outputs": [],
   "source": [
    "import redshift_connector\n",
    "conn = redshift_connector.connect(\n",
    "     host='redshift-python-dep.cantgzv41ter.us-east-1.redshift.amazonaws.com',\n",
    "     database='deps',\n",
    "     user='awsuser',\n",
    "     password='REDACTED'\n",
    "  )\n",
    "conn.autocommit = True\n",
    "cursor = conn.cursor()"
   ]
  },
  {
   "cell_type": "markdown",
   "id": "b50201b6",
   "metadata": {},
   "source": [
    "Create the table"
   ]
  },
  {
   "cell_type": "code",
   "execution_count": 13,
   "id": "7a87dc3b",
   "metadata": {},
   "outputs": [
    {
     "data": {
      "text/plain": [
       "<redshift_connector.cursor.Cursor at 0x7f5afced5390>"
      ]
     },
     "execution_count": 13,
     "metadata": {},
     "output_type": "execute_result"
    }
   ],
   "source": [
    "cursor.execute(\"DROP TABLE dependencies\")\n",
    "cursor.execute(\n",
    "\"\"\"\n",
    "    CREATE TABLE dependencies (\n",
    "        package VARCHAR(150),\n",
    "        dependency VARCHAR(150) NULL\n",
    "    )\n",
    "\"\"\"\n",
    ")"
   ]
  },
  {
   "cell_type": "markdown",
   "id": "dbf95b51",
   "metadata": {},
   "source": [
    "Load the data"
   ]
  },
  {
   "cell_type": "code",
   "execution_count": null,
   "id": "85ef1343",
   "metadata": {},
   "outputs": [],
   "source": [
    "\n",
    "\n",
    "# Time it\n",
    "start = default_timer()\n",
    "\n",
    "cursor.write_dataframe(df, \"dependencies\")\n",
    "\n",
    "# for package, deps in get_dependencies():\n",
    "#     # Packages with no dependencies get blank string\n",
    "#     if deps:\n",
    "#         args = list(product([package], deps))\n",
    "#     else:\n",
    "#         args = [(package, \"\")]\n",
    "        \n",
    "#     print(args)\n",
    "    \n",
    "#     for tup in args:\n",
    "#         cursor.execute(\"INSERT INTO dependencies VALUES (%s, %s)\", tup)\n",
    "#     cursor.executemany(\"INSERT INTO dependencies VALUES (%s, %s)\", args)\n",
    "\n",
    "end = default_timer()\n",
    "print(end - start) # Time in seconds, e.g. 5.38091952400282"
   ]
  },
  {
   "cell_type": "markdown",
   "id": "6ccfe301",
   "metadata": {},
   "source": [
    "# Neptune Graph"
   ]
  },
  {
   "cell_type": "markdown",
   "id": "cc741939",
   "metadata": {},
   "source": [
    "Clear existing data from graph"
   ]
  },
  {
   "cell_type": "code",
   "execution_count": null,
   "id": "47ca907d",
   "metadata": {},
   "outputs": [],
   "source": [
    "%%gremlin\n",
    "\n",
    "g.V().drop()"
   ]
  },
  {
   "cell_type": "markdown",
   "id": "a6d3a769",
   "metadata": {},
   "source": [
    "Load in nodes"
   ]
  },
  {
   "cell_type": "code",
   "execution_count": null,
   "id": "ed408299",
   "metadata": {},
   "outputs": [],
   "source": [
    "from gremlin_python import statics\n",
    "from gremlin_python.structure.graph import Graph\n",
    "from gremlin_python.process.graph_traversal import __\n",
    "from gremlin_python.process.strategies import *\n",
    "from gremlin_python.driver.driver_remote_connection import DriverRemoteConnection\n",
    "from gremlin_python.process.traversal import T\n",
    "\n",
    "graph = Graph()\n",
    "\n",
    "remoteConn = DriverRemoteConnection('wss://database-1.cluster-c8vhkkn9knug.us-west-2.neptune.amazonaws.com:8182/gremlin','g')\n",
    "g = graph.traversal().withRemote(remoteConn)\n",
    "\n",
    "\n",
    "for package_name in df.package.unique():\n",
    "    g.add_v('package').property(T.id, package_name).as_(package_name).next()\n",
    "    print(\"added package: \" + package_name)\n",
    "\n",
    "remoteConn.close()"
   ]
  },
  {
   "cell_type": "code",
   "execution_count": null,
   "id": "881bf341",
   "metadata": {
    "scrolled": true
   },
   "outputs": [],
   "source": [
    "%%gremlin\n",
    "\n",
    "g.V()"
   ]
  },
  {
   "cell_type": "markdown",
   "id": "453571d5",
   "metadata": {},
   "source": [
    "Add edges"
   ]
  },
  {
   "cell_type": "code",
   "execution_count": null,
   "id": "4c2cc493",
   "metadata": {},
   "outputs": [],
   "source": [
    "remoteConn = DriverRemoteConnection('wss://database-1.cluster-c8vhkkn9knug.us-west-2.neptune.amazonaws.com:8182/gremlin','g')\n",
    "g = graph.traversal().withRemote(remoteConn)\n",
    "\n",
    "\n",
    "for index, row in df.iterrows():\n",
    "    print(row['dependency'])\n",
    "    if row['dependency'] is not None:\n",
    "        g.V(row['package']).add_e(\"depends_on\").to(row['dependency']).next()\n",
    "        print(\"Added dependency: \" + row['package'] + \"->\" + row['dependency'])\n",
    "        \n",
    "remoteConn.close()"
   ]
  },
  {
   "cell_type": "code",
   "execution_count": 8,
   "id": "046262db",
   "metadata": {},
   "outputs": [
    {
     "data": {
      "application/vnd.jupyter.widget-view+json": {
       "model_id": "ca408e714c6f4da5ba6caeee36fa2b1c",
       "version_major": 2,
       "version_minor": 0
      },
      "text/plain": [
       "Tab(children=(Output(layout=Layout(max_height='600px', max_width='940px', overflow='scroll')), Output(layout=L…"
      ]
     },
     "metadata": {},
     "output_type": "display_data"
    }
   ],
   "source": [
    "%%gremlin\n",
    "\n",
    "g.E()"
   ]
  },
  {
   "cell_type": "code",
   "execution_count": null,
   "id": "4c80acc4",
   "metadata": {},
   "outputs": [],
   "source": []
  }
 ],
 "metadata": {
  "kernelspec": {
   "display_name": "Python 3",
   "language": "python",
   "name": "python3"
  },
  "language_info": {
   "codemirror_mode": {
    "name": "ipython",
    "version": 3
   },
   "file_extension": ".py",
   "mimetype": "text/x-python",
   "name": "python",
   "nbconvert_exporter": "python",
   "pygments_lexer": "ipython3",
   "version": "3.7.12"
  },
  "vscode": {
   "interpreter": {
    "hash": "3456ba5553292bb9313a9bc921b55584f884fd3b1c83a676f0c4a9c1b2dbc3c3"
   }
  }
 },
 "nbformat": 4,
 "nbformat_minor": 5
}
