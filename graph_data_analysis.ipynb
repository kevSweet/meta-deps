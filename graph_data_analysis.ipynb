{
 "cells": [
  {
   "cell_type": "markdown",
   "id": "ac66051f",
   "metadata": {},
   "source": [
    "# Loading\n",
    "\n",
    "Create a generator function for importing the file"
   ]
  },
  {
   "cell_type": "code",
   "execution_count": 1,
   "id": "a78623e8",
   "metadata": {},
   "outputs": [],
   "source": [
    "import urllib.request\n",
    "import lzma\n",
    "import base64\n",
    "import re\n",
    "\n",
    "def get_dependencies():\n",
    "    localfile, info = urllib.request.urlretrieve(\"https://github.com/ogirardot/meta-deps/raw/master/pypi-deps.csv.lzma\")\n",
    "    with lzma.open(localfile, mode='r') as file:\n",
    "        for line in file:\n",
    "            package, version, deps = line.decode(\"utf-8\").split('\\t')\n",
    "            deps = base64.b64decode(deps).decode(\"utf-8\")\n",
    "            deps = eval(deps)\n",
    "            regex = r'\\\"*([\\w\\.]+)[><]?\\=?.*\\\"*'\n",
    "            \n",
    "            def cleanDep(s):\n",
    "                try:\n",
    "                    match = re.search(regex, s)\n",
    "                    return match.group(0)\n",
    "                except:\n",
    "                    return None\n",
    "            \n",
    "            deps = [cleanDep(x) for x in deps if cleanDep(x) is not None]\n",
    "            \n",
    "            yield package, deps\n",
    "        \n",
    "        \n"
   ]
  },
  {
   "cell_type": "markdown",
   "id": "cdb43fb3",
   "metadata": {},
   "source": [
    "Store as dataframe"
   ]
  },
  {
   "cell_type": "code",
   "execution_count": 2,
   "id": "8cec55f6",
   "metadata": {
    "scrolled": false
   },
   "outputs": [
    {
     "data": {
      "text/html": [
       "<div>\n",
       "<style scoped>\n",
       "    .dataframe tbody tr th:only-of-type {\n",
       "        vertical-align: middle;\n",
       "    }\n",
       "\n",
       "    .dataframe tbody tr th {\n",
       "        vertical-align: top;\n",
       "    }\n",
       "\n",
       "    .dataframe thead th {\n",
       "        text-align: right;\n",
       "    }\n",
       "</style>\n",
       "<table border=\"1\" class=\"dataframe\">\n",
       "  <thead>\n",
       "    <tr style=\"text-align: right;\">\n",
       "      <th></th>\n",
       "      <th>package</th>\n",
       "      <th>dependency</th>\n",
       "    </tr>\n",
       "  </thead>\n",
       "  <tbody>\n",
       "    <tr>\n",
       "      <th>0</th>\n",
       "      <td>None</td>\n",
       "      <td>None</td>\n",
       "    </tr>\n",
       "    <tr>\n",
       "      <th>1</th>\n",
       "      <td>0x10c-asm</td>\n",
       "      <td>None</td>\n",
       "    </tr>\n",
       "    <tr>\n",
       "      <th>2</th>\n",
       "      <td>2gis</td>\n",
       "      <td>None</td>\n",
       "    </tr>\n",
       "    <tr>\n",
       "      <th>3</th>\n",
       "      <td>3to2</td>\n",
       "      <td>None</td>\n",
       "    </tr>\n",
       "    <tr>\n",
       "      <th>4</th>\n",
       "      <td>3to2_py3k</td>\n",
       "      <td>None</td>\n",
       "    </tr>\n",
       "  </tbody>\n",
       "</table>\n",
       "</div>"
      ],
      "text/plain": [
       "     package dependency\n",
       "0       None       None\n",
       "1  0x10c-asm       None\n",
       "2       2gis       None\n",
       "3       3to2       None\n",
       "4  3to2_py3k       None"
      ]
     },
     "execution_count": 2,
     "metadata": {},
     "output_type": "execute_result"
    }
   ],
   "source": [
    "import pandas as pd\n",
    "import numpy as np\n",
    "\n",
    "rows = np.array([[None,None]])\n",
    "for package, deps in get_dependencies():\n",
    "    # Packages with no dependencies get blank string\n",
    "    if deps:\n",
    "        args= [[package, dep] for dep in deps]\n",
    "    else:\n",
    "        args = [[package, None]]\n",
    "    rows = np.append(rows, args, axis=0)\n",
    "\n",
    "        \n",
    "df = pd.DataFrame(rows, columns=[\"package\", \"dependency\"]).drop_duplicates()\n",
    "df.head()"
   ]
  },
  {
   "cell_type": "code",
   "execution_count": 3,
   "id": "8ddc85a3",
   "metadata": {},
   "outputs": [],
   "source": [
    "deps = pd.Series(df.dependency.unique())\n",
    "packages = pd.Series(df.package.unique())\n",
    "new_deps = deps[~deps.isin(packages)]\n",
    "new_df = pd.DataFrame({'package': new_deps, 'dependency': [None]*len(new_deps)})\n",
    "df = pd.concat([df, new_df])\n",
    "df = df.dropna(subset=['package'])"
   ]
  },
  {
   "cell_type": "code",
   "execution_count": 61,
   "id": "c44c2558",
   "metadata": {},
   "outputs": [],
   "source": [
    "from timeit import default_timer, timeit"
   ]
  },
  {
   "cell_type": "markdown",
   "id": "30d02d45",
   "metadata": {},
   "source": [
    "## Redshift\n",
    "\n",
    "In Redshift we create a single table that will hold one \"edge\" per row."
   ]
  },
  {
   "cell_type": "code",
   "execution_count": 4,
   "id": "a9c3457d",
   "metadata": {},
   "outputs": [],
   "source": [
    "import redshift_connector\n",
    "conn = redshift_connector.connect(\n",
    "     host='redshift-python-dep.cantgzv41ter.us-east-1.redshift.amazonaws.com',\n",
    "     database='deps',\n",
    "     user='awsuser',\n",
    "     password='REDACTED'\n",
    "  )\n",
    "conn.autocommit = True\n",
    "cursor = conn.cursor()"
   ]
  },
  {
   "cell_type": "markdown",
   "id": "b50201b6",
   "metadata": {},
   "source": [
    "Create the table"
   ]
  },
  {
   "cell_type": "code",
   "execution_count": 5,
   "id": "7a87dc3b",
   "metadata": {},
   "outputs": [
    {
     "data": {
      "text/plain": [
       "<redshift_connector.cursor.Cursor at 0x7f5ccf168850>"
      ]
     },
     "execution_count": 5,
     "metadata": {},
     "output_type": "execute_result"
    }
   ],
   "source": [
    "cursor.execute(\"DROP TABLE dependencies\")\n",
    "cursor.execute(\n",
    "\"\"\"\n",
    "    CREATE TABLE dependencies (\n",
    "        package VARCHAR(150),\n",
    "        dependency VARCHAR(150) NULL\n",
    "    )\n",
    "\"\"\"\n",
    ")"
   ]
  },
  {
   "cell_type": "markdown",
   "id": "dbf95b51",
   "metadata": {},
   "source": [
    "Load the data"
   ]
  },
  {
   "cell_type": "code",
   "execution_count": 8,
   "id": "85ef1343",
   "metadata": {},
   "outputs": [
    {
     "data": {
      "text/plain": [
       "2338.004424226"
      ]
     },
     "execution_count": 8,
     "metadata": {},
     "output_type": "execute_result"
    }
   ],
   "source": [
    "from itertools import product\n",
    "\n",
    "# Time it\n",
    "start = default_timer()\n",
    "\n",
    "#cursor.write_dataframe(df, \"dependencies\")\n",
    "cursor.executemany(\"INSERT INTO dependencies VALUES (%s, %s)\", df.itertuples(index=False, name=None))\n",
    "\n",
    "end = default_timer()\n",
    "redshift_load_time = end - start\n",
    "redshift_load_time"
   ]
  },
  {
   "cell_type": "markdown",
   "id": "6ccfe301",
   "metadata": {},
   "source": [
    "# Neptune Graph"
   ]
  },
  {
   "cell_type": "markdown",
   "id": "cc741939",
   "metadata": {},
   "source": [
    "Clear existing data from graph"
   ]
  },
  {
   "cell_type": "code",
   "execution_count": 9,
   "id": "47ca907d",
   "metadata": {
    "scrolled": true
   },
   "outputs": [
    {
     "data": {
      "application/vnd.jupyter.widget-view+json": {
       "model_id": "d0d71ca19eea4b0d91f84af3ae49a97f",
       "version_major": 2,
       "version_minor": 0
      },
      "text/plain": [
       "Tab(children=(Output(layout=Layout(max_height='600px', max_width='940px', overflow='scroll')), Output(layout=L…"
      ]
     },
     "metadata": {},
     "output_type": "display_data"
    }
   ],
   "source": [
    "%%gremlin\n",
    "\n",
    "g.V().drop()"
   ]
  },
  {
   "cell_type": "markdown",
   "id": "a6d3a769",
   "metadata": {},
   "source": [
    "Load in nodes and edges"
   ]
  },
  {
   "cell_type": "code",
   "execution_count": 56,
   "id": "c5840b9c",
   "metadata": {},
   "outputs": [],
   "source": [
    "from gremlin_python import statics\n",
    "from gremlin_python.structure.graph import Graph\n",
    "from gremlin_python.process.graph_traversal import __\n",
    "from gremlin_python.process.strategies import *\n",
    "from gremlin_python.driver.driver_remote_connection import DriverRemoteConnection\n",
    "from gremlin_python.process.traversal import T\n",
    "from gremlin_python.process.traversal import Order\n",
    "from gremlin_python.process.traversal import Scope"
   ]
  },
  {
   "cell_type": "code",
   "execution_count": 11,
   "id": "ed408299",
   "metadata": {
    "scrolled": false
   },
   "outputs": [],
   "source": [
    "def load_nodes(g, df):\n",
    "    for package_name in df.package.unique():\n",
    "        try:\n",
    "            g.add_v('package').property(T.id, package_name).as_(package_name).next()\n",
    "            #print(\"added package: \" + package_name)\n",
    "        except:\n",
    "            print(f\"Failed to add package {package_name}\")\n",
    "\n",
    "def load_edges(g, df):\n",
    "    for index, row in df.iterrows():\n",
    "        if row['dependency'] is not None:\n",
    "            g.V(row['package']).add_e(\"depends_on\").to(__.V(row['dependency'])).next()\n",
    "            #print(\"Added dependency: \" + row['package'] + \"->\" + row['dependency'])\n",
    "\n"
   ]
  },
  {
   "cell_type": "code",
   "execution_count": 12,
   "id": "d3eac779",
   "metadata": {},
   "outputs": [
    {
     "data": {
      "text/plain": [
       "156.96739027900003"
      ]
     },
     "execution_count": 12,
     "metadata": {},
     "output_type": "execute_result"
    }
   ],
   "source": [
    "remoteConnStr = 'wss://[YOUR NEPTUNE CLUSTER].us-east-1.neptune.amazonaws.com:8182/gremlin'\n",
    "remoteConn = DriverRemoteConnection(remoteConnStr,'g')\n",
    "\n",
    "g = Graph().traversal().withRemote(remoteConn)\n",
    "\n",
    "start = default_timer()\n",
    "\n",
    "load_nodes(g, df)\n",
    "load_edges(g, df)\n",
    "\n",
    "end = default_timer()\n",
    "remoteConn.close()\n",
    "\n",
    "neptune_load_time = end - start\n",
    "neptune_load_time"
   ]
  },
  {
   "cell_type": "code",
   "execution_count": 13,
   "id": "046262db",
   "metadata": {
    "scrolled": true
   },
   "outputs": [
    {
     "data": {
      "application/vnd.jupyter.widget-view+json": {
       "model_id": "9309eb0ed49e42689e25d04a062c9326",
       "version_major": 2,
       "version_minor": 0
      },
      "text/plain": [
       "Tab(children=(Output(layout=Layout(max_height='600px', max_width='940px', overflow='scroll')), Output(layout=L…"
      ]
     },
     "metadata": {},
     "output_type": "display_data"
    }
   ],
   "source": [
    "%%gremlin\n",
    "g.V()\n",
    "g.E()"
   ]
  },
  {
   "cell_type": "markdown",
   "id": "8ea406d6",
   "metadata": {},
   "source": [
    "# Queries"
   ]
  },
  {
   "cell_type": "markdown",
   "id": "b0bbbe47",
   "metadata": {},
   "source": [
    "## Helper Funcs"
   ]
  },
  {
   "cell_type": "code",
   "execution_count": 62,
   "id": "e8aaffab",
   "metadata": {},
   "outputs": [],
   "source": [
    "def timeRedshiftQuery(sqlTxt):\n",
    "    cursor = conn.cursor()\n",
    "    f = lambda : cursor.execute(sqlText)\n",
    "    return timeit(\"f()\")\n",
    "\n",
    "def timeNeptuneQuery(f):\n",
    "    g = Graph().traversal().withRemote(remoteConn)\n",
    "    return timeit.timeit(\"f(g)\")"
   ]
  },
  {
   "cell_type": "markdown",
   "id": "febf5fe7",
   "metadata": {},
   "source": [
    "## 1: Which package has the most direct dependencies and how many?"
   ]
  },
  {
   "cell_type": "markdown",
   "id": "71c07e18",
   "metadata": {},
   "source": [
    "### Redshift"
   ]
  },
  {
   "cell_type": "code",
   "execution_count": 20,
   "id": "a631377d",
   "metadata": {},
   "outputs": [
    {
     "data": {
      "text/plain": [
       "(['Products.CMFPlone', 100],)"
      ]
     },
     "execution_count": 20,
     "metadata": {},
     "output_type": "execute_result"
    }
   ],
   "source": [
    "cursor = conn.cursor()\n",
    "query = \"\"\"\n",
    "    SELECT TOP 1 *\n",
    "    FROM \n",
    "    (\n",
    "        SELECT package, count(*) as \"dep_count\"\n",
    "        FROM dependencies\n",
    "        WHERE dependency is not NULL\n",
    "        GROUP BY package\n",
    "    ) DepCounts\n",
    "    ORDER BY dep_count DESC, package ASC\n",
    "\n",
    "\"\"\"\n",
    "cursor.execute(query)\n",
    "cursor.fetchall()\n"
   ]
  },
  {
   "cell_type": "code",
   "execution_count": 63,
   "id": "5dc92476",
   "metadata": {},
   "outputs": [
    {
     "ename": "NameError",
     "evalue": "name 'f' is not defined",
     "output_type": "error",
     "traceback": [
      "\u001b[0;31m---------------------------------------------------------------------------\u001b[0m",
      "\u001b[0;31mNameError\u001b[0m                                 Traceback (most recent call last)",
      "\u001b[0;32m<ipython-input-63-1a5f49edb4ea>\u001b[0m in \u001b[0;36m<module>\u001b[0;34m\u001b[0m\n\u001b[0;32m----> 1\u001b[0;31m \u001b[0mtimeRedshiftQuery\u001b[0m\u001b[0;34m(\u001b[0m\u001b[0mquery\u001b[0m\u001b[0;34m)\u001b[0m\u001b[0;34m\u001b[0m\u001b[0;34m\u001b[0m\u001b[0m\n\u001b[0m",
      "\u001b[0;32m<ipython-input-62-d6191f94fbc5>\u001b[0m in \u001b[0;36mtimeRedshiftQuery\u001b[0;34m(sqlTxt)\u001b[0m\n\u001b[1;32m      2\u001b[0m     \u001b[0mcursor\u001b[0m \u001b[0;34m=\u001b[0m \u001b[0mconn\u001b[0m\u001b[0;34m.\u001b[0m\u001b[0mcursor\u001b[0m\u001b[0;34m(\u001b[0m\u001b[0;34m)\u001b[0m\u001b[0;34m\u001b[0m\u001b[0;34m\u001b[0m\u001b[0m\n\u001b[1;32m      3\u001b[0m     \u001b[0mf\u001b[0m \u001b[0;34m=\u001b[0m \u001b[0;32mlambda\u001b[0m \u001b[0;34m:\u001b[0m \u001b[0mcursor\u001b[0m\u001b[0;34m.\u001b[0m\u001b[0mexecute\u001b[0m\u001b[0;34m(\u001b[0m\u001b[0msqlText\u001b[0m\u001b[0;34m)\u001b[0m\u001b[0;34m\u001b[0m\u001b[0;34m\u001b[0m\u001b[0m\n\u001b[0;32m----> 4\u001b[0;31m     \u001b[0;32mreturn\u001b[0m \u001b[0mtimeit\u001b[0m\u001b[0;34m(\u001b[0m\u001b[0;34m\"f()\"\u001b[0m\u001b[0;34m)\u001b[0m\u001b[0;34m\u001b[0m\u001b[0;34m\u001b[0m\u001b[0m\n\u001b[0m\u001b[1;32m      5\u001b[0m \u001b[0;34m\u001b[0m\u001b[0m\n\u001b[1;32m      6\u001b[0m \u001b[0;32mdef\u001b[0m \u001b[0mtimeNeptuneQuery\u001b[0m\u001b[0;34m(\u001b[0m\u001b[0mf\u001b[0m\u001b[0;34m)\u001b[0m\u001b[0;34m:\u001b[0m\u001b[0;34m\u001b[0m\u001b[0;34m\u001b[0m\u001b[0m\n",
      "\u001b[0;32m~/anaconda3/envs/JupyterSystemEnv/lib/python3.7/timeit.py\u001b[0m in \u001b[0;36mtimeit\u001b[0;34m(stmt, setup, timer, number, globals)\u001b[0m\n\u001b[1;32m    231\u001b[0m            number=default_number, globals=None):\n\u001b[1;32m    232\u001b[0m     \u001b[0;34m\"\"\"Convenience function to create Timer object and call timeit method.\"\"\"\u001b[0m\u001b[0;34m\u001b[0m\u001b[0;34m\u001b[0m\u001b[0m\n\u001b[0;32m--> 233\u001b[0;31m     \u001b[0;32mreturn\u001b[0m \u001b[0mTimer\u001b[0m\u001b[0;34m(\u001b[0m\u001b[0mstmt\u001b[0m\u001b[0;34m,\u001b[0m \u001b[0msetup\u001b[0m\u001b[0;34m,\u001b[0m \u001b[0mtimer\u001b[0m\u001b[0;34m,\u001b[0m \u001b[0mglobals\u001b[0m\u001b[0;34m)\u001b[0m\u001b[0;34m.\u001b[0m\u001b[0mtimeit\u001b[0m\u001b[0;34m(\u001b[0m\u001b[0mnumber\u001b[0m\u001b[0;34m)\u001b[0m\u001b[0;34m\u001b[0m\u001b[0;34m\u001b[0m\u001b[0m\n\u001b[0m\u001b[1;32m    234\u001b[0m \u001b[0;34m\u001b[0m\u001b[0m\n\u001b[1;32m    235\u001b[0m def repeat(stmt=\"pass\", setup=\"pass\", timer=default_timer,\n",
      "\u001b[0;32m~/anaconda3/envs/JupyterSystemEnv/lib/python3.7/timeit.py\u001b[0m in \u001b[0;36mtimeit\u001b[0;34m(self, number)\u001b[0m\n\u001b[1;32m    175\u001b[0m         \u001b[0mgc\u001b[0m\u001b[0;34m.\u001b[0m\u001b[0mdisable\u001b[0m\u001b[0;34m(\u001b[0m\u001b[0;34m)\u001b[0m\u001b[0;34m\u001b[0m\u001b[0;34m\u001b[0m\u001b[0m\n\u001b[1;32m    176\u001b[0m         \u001b[0;32mtry\u001b[0m\u001b[0;34m:\u001b[0m\u001b[0;34m\u001b[0m\u001b[0;34m\u001b[0m\u001b[0m\n\u001b[0;32m--> 177\u001b[0;31m             \u001b[0mtiming\u001b[0m \u001b[0;34m=\u001b[0m \u001b[0mself\u001b[0m\u001b[0;34m.\u001b[0m\u001b[0minner\u001b[0m\u001b[0;34m(\u001b[0m\u001b[0mit\u001b[0m\u001b[0;34m,\u001b[0m \u001b[0mself\u001b[0m\u001b[0;34m.\u001b[0m\u001b[0mtimer\u001b[0m\u001b[0;34m)\u001b[0m\u001b[0;34m\u001b[0m\u001b[0;34m\u001b[0m\u001b[0m\n\u001b[0m\u001b[1;32m    178\u001b[0m         \u001b[0;32mfinally\u001b[0m\u001b[0;34m:\u001b[0m\u001b[0;34m\u001b[0m\u001b[0;34m\u001b[0m\u001b[0m\n\u001b[1;32m    179\u001b[0m             \u001b[0;32mif\u001b[0m \u001b[0mgcold\u001b[0m\u001b[0;34m:\u001b[0m\u001b[0;34m\u001b[0m\u001b[0;34m\u001b[0m\u001b[0m\n",
      "\u001b[0;32m~/anaconda3/envs/JupyterSystemEnv/lib/python3.7/timeit.py\u001b[0m in \u001b[0;36minner\u001b[0;34m(_it, _timer)\u001b[0m\n",
      "\u001b[0;31mNameError\u001b[0m: name 'f' is not defined"
     ]
    }
   ],
   "source": [
    "timeRedshiftQuery(query)"
   ]
  },
  {
   "cell_type": "markdown",
   "id": "0951d15c",
   "metadata": {},
   "source": [
    "### Neptune"
   ]
  },
  {
   "cell_type": "code",
   "execution_count": 45,
   "id": "3c131b7c",
   "metadata": {},
   "outputs": [],
   "source": [
    "def query(g):\n",
    "    g.V().hasLabel('package').inE('depends_on'). \\\n",
    "    groupCount().by('package').as_('group'). \\\n",
    "    order(Scope.local). \\\n",
    "        by('values', Order.desc). \\\n",
    "        by('keys', Order.asc). \\\n",
    "    unfold().limit(1).toList()"
   ]
  },
  {
   "cell_type": "code",
   "execution_count": 64,
   "id": "94d0a8bf",
   "metadata": {},
   "outputs": [
    {
     "data": {
      "application/vnd.jupyter.widget-view+json": {
       "model_id": "8bdfe5a6bd07428b88baa7fa66cb2556",
       "version_major": 2,
       "version_minor": 0
      },
      "text/plain": [
       "Tab(children=(Output(layout=Layout(max_height='600px', max_width='940px', overflow='scroll')), Output(layout=L…"
      ]
     },
     "metadata": {},
     "output_type": "display_data"
    }
   ],
   "source": [
    "%%gremlin\n",
    "\n",
    "g.V().hasLabel('package').in('depends_on').\n",
    "groupCount().by(id).\n",
    "order(Scope.local).\n",
    "    by(values, Order.desc).\n",
    "    by(keys, Order.asc).\n",
    "unfold().limit(1)"
   ]
  },
  {
   "cell_type": "code",
   "execution_count": null,
   "id": "93e414a1",
   "metadata": {},
   "outputs": [],
   "source": []
  }
 ],
 "metadata": {
  "kernelspec": {
   "display_name": "Python 3",
   "language": "python",
   "name": "python3"
  },
  "language_info": {
   "codemirror_mode": {
    "name": "ipython",
    "version": 3
   },
   "file_extension": ".py",
   "mimetype": "text/x-python",
   "name": "python",
   "nbconvert_exporter": "python",
   "pygments_lexer": "ipython3",
   "version": "3.7.9"
  },
  "vscode": {
   "interpreter": {
    "hash": "3456ba5553292bb9313a9bc921b55584f884fd3b1c83a676f0c4a9c1b2dbc3c3"
   }
  }
 },
 "nbformat": 4,
 "nbformat_minor": 5
}
